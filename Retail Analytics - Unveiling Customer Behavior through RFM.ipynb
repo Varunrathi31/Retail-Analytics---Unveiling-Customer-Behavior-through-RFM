{
 "cells": [
  {
   "cell_type": "markdown",
   "id": "109d6a88",
   "metadata": {},
   "source": [
    "***Problem Statement:***\n",
    "\n",
    "The company aims to pinpoint a distinctive customer segment by analyzing transaction histories, and ensuring the sustained growth and viability of the business. This involves two primary audiences: \n",
    "\n",
    "- 1st audience: High-Value, Loyal, and Recent Customers\n",
    "- 2nd audience: High-Value, Loyal Customers who haven't purchased recently\n",
    "\n",
    "***The objective is to implement targeted strategies tailored to each group, fostering engagement and loyalty for long-term business success.***"
   ]
  },
  {
   "cell_type": "code",
   "execution_count": 1,
   "id": "f0647503",
   "metadata": {},
   "outputs": [],
   "source": [
    "import pandas as pd"
   ]
  },
  {
   "cell_type": "code",
   "execution_count": 2,
   "id": "153aefcb",
   "metadata": {},
   "outputs": [],
   "source": [
    "# scanner dataset\n",
    "sd_df = pd.read_csv('Retail_Scanner_Data.csv')"
   ]
  },
  {
   "cell_type": "code",
   "execution_count": 3,
   "id": "1c4d33f6",
   "metadata": {},
   "outputs": [
    {
     "data": {
      "text/html": [
       "<div>\n",
       "<style scoped>\n",
       "    .dataframe tbody tr th:only-of-type {\n",
       "        vertical-align: middle;\n",
       "    }\n",
       "\n",
       "    .dataframe tbody tr th {\n",
       "        vertical-align: top;\n",
       "    }\n",
       "\n",
       "    .dataframe thead th {\n",
       "        text-align: right;\n",
       "    }\n",
       "</style>\n",
       "<table border=\"1\" class=\"dataframe\">\n",
       "  <thead>\n",
       "    <tr style=\"text-align: right;\">\n",
       "      <th></th>\n",
       "      <th>Order Date</th>\n",
       "      <th>Customer_ID</th>\n",
       "      <th>Transaction_ID</th>\n",
       "      <th>Sales_Amount</th>\n",
       "    </tr>\n",
       "  </thead>\n",
       "  <tbody>\n",
       "    <tr>\n",
       "      <th>0</th>\n",
       "      <td>2023-2-1</td>\n",
       "      <td>2547</td>\n",
       "      <td>1</td>\n",
       "      <td>3.13</td>\n",
       "    </tr>\n",
       "    <tr>\n",
       "      <th>1</th>\n",
       "      <td>2023-2-1</td>\n",
       "      <td>822</td>\n",
       "      <td>2</td>\n",
       "      <td>5.46</td>\n",
       "    </tr>\n",
       "    <tr>\n",
       "      <th>2</th>\n",
       "      <td>2023-2-1</td>\n",
       "      <td>3686</td>\n",
       "      <td>3</td>\n",
       "      <td>6.35</td>\n",
       "    </tr>\n",
       "    <tr>\n",
       "      <th>3</th>\n",
       "      <td>2023-2-1</td>\n",
       "      <td>3719</td>\n",
       "      <td>4</td>\n",
       "      <td>5.59</td>\n",
       "    </tr>\n",
       "    <tr>\n",
       "      <th>4</th>\n",
       "      <td>2023-2-1</td>\n",
       "      <td>9200</td>\n",
       "      <td>5</td>\n",
       "      <td>6.88</td>\n",
       "    </tr>\n",
       "  </tbody>\n",
       "</table>\n",
       "</div>"
      ],
      "text/plain": [
       "  Order Date  Customer_ID  Transaction_ID  Sales_Amount\n",
       "0   2023-2-1         2547               1          3.13\n",
       "1   2023-2-1          822               2          5.46\n",
       "2   2023-2-1         3686               3          6.35\n",
       "3   2023-2-1         3719               4          5.59\n",
       "4   2023-2-1         9200               5          6.88"
      ]
     },
     "execution_count": 3,
     "metadata": {},
     "output_type": "execute_result"
    }
   ],
   "source": [
    "sd_df.head()"
   ]
  },
  {
   "cell_type": "code",
   "execution_count": 4,
   "id": "15e7380e",
   "metadata": {},
   "outputs": [
    {
     "data": {
      "text/plain": [
       "(131706, 4)"
      ]
     },
     "execution_count": 4,
     "metadata": {},
     "output_type": "execute_result"
    }
   ],
   "source": [
    "# no of rows and columns in a table\n",
    "sd_df.shape"
   ]
  },
  {
   "cell_type": "code",
   "execution_count": 5,
   "id": "7d6cfe19",
   "metadata": {},
   "outputs": [
    {
     "data": {
      "text/html": [
       "<div>\n",
       "<style scoped>\n",
       "    .dataframe tbody tr th:only-of-type {\n",
       "        vertical-align: middle;\n",
       "    }\n",
       "\n",
       "    .dataframe tbody tr th {\n",
       "        vertical-align: top;\n",
       "    }\n",
       "\n",
       "    .dataframe thead th {\n",
       "        text-align: right;\n",
       "    }\n",
       "</style>\n",
       "<table border=\"1\" class=\"dataframe\">\n",
       "  <thead>\n",
       "    <tr style=\"text-align: right;\">\n",
       "      <th></th>\n",
       "      <th>Order Date</th>\n",
       "      <th>Customer_ID</th>\n",
       "      <th>Transaction_ID</th>\n",
       "      <th>Sales_Amount</th>\n",
       "    </tr>\n",
       "  </thead>\n",
       "  <tbody>\n",
       "    <tr>\n",
       "      <th>count</th>\n",
       "      <td>131706</td>\n",
       "      <td>131706.000000</td>\n",
       "      <td>131706.000000</td>\n",
       "      <td>131706.000000</td>\n",
       "    </tr>\n",
       "    <tr>\n",
       "      <th>unique</th>\n",
       "      <td>363</td>\n",
       "      <td>NaN</td>\n",
       "      <td>NaN</td>\n",
       "      <td>NaN</td>\n",
       "    </tr>\n",
       "    <tr>\n",
       "      <th>top</th>\n",
       "      <td>2023-9-23</td>\n",
       "      <td>NaN</td>\n",
       "      <td>NaN</td>\n",
       "      <td>NaN</td>\n",
       "    </tr>\n",
       "    <tr>\n",
       "      <th>freq</th>\n",
       "      <td>638</td>\n",
       "      <td>NaN</td>\n",
       "      <td>NaN</td>\n",
       "      <td>NaN</td>\n",
       "    </tr>\n",
       "    <tr>\n",
       "      <th>mean</th>\n",
       "      <td>NaN</td>\n",
       "      <td>12386.450367</td>\n",
       "      <td>32389.604187</td>\n",
       "      <td>11.981524</td>\n",
       "    </tr>\n",
       "    <tr>\n",
       "      <th>std</th>\n",
       "      <td>NaN</td>\n",
       "      <td>6086.447552</td>\n",
       "      <td>18709.901238</td>\n",
       "      <td>19.359699</td>\n",
       "    </tr>\n",
       "    <tr>\n",
       "      <th>min</th>\n",
       "      <td>NaN</td>\n",
       "      <td>1.000000</td>\n",
       "      <td>1.000000</td>\n",
       "      <td>0.020000</td>\n",
       "    </tr>\n",
       "    <tr>\n",
       "      <th>25%</th>\n",
       "      <td>NaN</td>\n",
       "      <td>7349.000000</td>\n",
       "      <td>16134.000000</td>\n",
       "      <td>4.230000</td>\n",
       "    </tr>\n",
       "    <tr>\n",
       "      <th>50%</th>\n",
       "      <td>NaN</td>\n",
       "      <td>13496.000000</td>\n",
       "      <td>32620.000000</td>\n",
       "      <td>6.920000</td>\n",
       "    </tr>\n",
       "    <tr>\n",
       "      <th>75%</th>\n",
       "      <td>NaN</td>\n",
       "      <td>17306.000000</td>\n",
       "      <td>48548.000000</td>\n",
       "      <td>12.330000</td>\n",
       "    </tr>\n",
       "    <tr>\n",
       "      <th>max</th>\n",
       "      <td>NaN</td>\n",
       "      <td>22625.000000</td>\n",
       "      <td>64682.000000</td>\n",
       "      <td>707.730000</td>\n",
       "    </tr>\n",
       "  </tbody>\n",
       "</table>\n",
       "</div>"
      ],
      "text/plain": [
       "       Order Date    Customer_ID  Transaction_ID   Sales_Amount\n",
       "count      131706  131706.000000   131706.000000  131706.000000\n",
       "unique        363            NaN             NaN            NaN\n",
       "top     2023-9-23            NaN             NaN            NaN\n",
       "freq          638            NaN             NaN            NaN\n",
       "mean          NaN   12386.450367    32389.604187      11.981524\n",
       "std           NaN    6086.447552    18709.901238      19.359699\n",
       "min           NaN       1.000000        1.000000       0.020000\n",
       "25%           NaN    7349.000000    16134.000000       4.230000\n",
       "50%           NaN   13496.000000    32620.000000       6.920000\n",
       "75%           NaN   17306.000000    48548.000000      12.330000\n",
       "max           NaN   22625.000000    64682.000000     707.730000"
      ]
     },
     "execution_count": 5,
     "metadata": {},
     "output_type": "execute_result"
    }
   ],
   "source": [
    "# Basic statistics for all features(columns) in scanner dataset\n",
    "sd_df.describe(include = 'all')"
   ]
  },
  {
   "cell_type": "code",
   "execution_count": 6,
   "id": "32516f73",
   "metadata": {},
   "outputs": [
    {
     "data": {
      "text/plain": [
       "Order Date        0\n",
       "Customer_ID       0\n",
       "Transaction_ID    0\n",
       "Sales_Amount      0\n",
       "dtype: int64"
      ]
     },
     "execution_count": 6,
     "metadata": {},
     "output_type": "execute_result"
    }
   ],
   "source": [
    "# Check for null values for each feature\n",
    "sd_df.isna().sum()"
   ]
  },
  {
   "cell_type": "code",
   "execution_count": 7,
   "id": "81d9ea98",
   "metadata": {},
   "outputs": [
    {
     "name": "stdout",
     "output_type": "stream",
     "text": [
      "<class 'pandas.core.frame.DataFrame'>\n",
      "RangeIndex: 131706 entries, 0 to 131705\n",
      "Data columns (total 4 columns):\n",
      " #   Column          Non-Null Count   Dtype  \n",
      "---  ------          --------------   -----  \n",
      " 0   Order Date      131706 non-null  object \n",
      " 1   Customer_ID     131706 non-null  int64  \n",
      " 2   Transaction_ID  131706 non-null  int64  \n",
      " 3   Sales_Amount    131706 non-null  float64\n",
      "dtypes: float64(1), int64(2), object(1)\n",
      "memory usage: 4.0+ MB\n"
     ]
    }
   ],
   "source": [
    "# Basic info about the table and its column\n",
    "sd_df.info()"
   ]
  },
  {
   "cell_type": "code",
   "execution_count": 8,
   "id": "857348ea",
   "metadata": {},
   "outputs": [],
   "source": [
    "# Converting \"Order Date\" Column from object to datetime datatype\n",
    "sd_df['Order Date'] = pd.to_datetime(sd_df['Order Date'])"
   ]
  },
  {
   "cell_type": "code",
   "execution_count": 9,
   "id": "59f916bf",
   "metadata": {},
   "outputs": [
    {
     "name": "stdout",
     "output_type": "stream",
     "text": [
      "2023-01-02 00:00:00\n",
      "2023-12-31 00:00:00\n"
     ]
    }
   ],
   "source": [
    "# see the time frame from dataset\n",
    "print(sd_df['Order Date'].min())\n",
    "print(sd_df['Order Date'].max())"
   ]
  },
  {
   "cell_type": "markdown",
   "id": "2cf82493",
   "metadata": {},
   "source": [
    "***Here, will do Customer segmentation technique based on their transaction history.***\n",
    "\n",
    "***RFM (Recency, Frequency, Monetary) analysis :***\n",
    "1. Recency (R): Represents how recently a customer has made a purchase.\n",
    "2. Frequency (F): Represents how often a customer makes a purchase.\n",
    "3. Monetary (M): Represents the monetary value of a customer's transactions."
   ]
  },
  {
   "cell_type": "markdown",
   "id": "d33278e3",
   "metadata": {},
   "source": [
    "### compute each dimension (RFM)\n",
    "1. spending habit of each customer\n",
    "2. How frequent each customer purchased\n",
    "3. How recently each customer purchased"
   ]
  },
  {
   "cell_type": "code",
   "execution_count": 10,
   "id": "5fe9a39c",
   "metadata": {
    "scrolled": false
   },
   "outputs": [
    {
     "data": {
      "text/html": [
       "<div>\n",
       "<style scoped>\n",
       "    .dataframe tbody tr th:only-of-type {\n",
       "        vertical-align: middle;\n",
       "    }\n",
       "\n",
       "    .dataframe tbody tr th {\n",
       "        vertical-align: top;\n",
       "    }\n",
       "\n",
       "    .dataframe thead th {\n",
       "        text-align: right;\n",
       "    }\n",
       "</style>\n",
       "<table border=\"1\" class=\"dataframe\">\n",
       "  <thead>\n",
       "    <tr style=\"text-align: right;\">\n",
       "      <th></th>\n",
       "      <th>Customer_ID</th>\n",
       "      <th>Last_purchase_date</th>\n",
       "      <th>No_of_orders</th>\n",
       "      <th>Total_spend</th>\n",
       "    </tr>\n",
       "  </thead>\n",
       "  <tbody>\n",
       "    <tr>\n",
       "      <th>0</th>\n",
       "      <td>1</td>\n",
       "      <td>2023-01-22</td>\n",
       "      <td>2</td>\n",
       "      <td>16.29</td>\n",
       "    </tr>\n",
       "    <tr>\n",
       "      <th>1</th>\n",
       "      <td>2</td>\n",
       "      <td>2023-06-19</td>\n",
       "      <td>2</td>\n",
       "      <td>22.77</td>\n",
       "    </tr>\n",
       "    <tr>\n",
       "      <th>2</th>\n",
       "      <td>3</td>\n",
       "      <td>2023-02-01</td>\n",
       "      <td>3</td>\n",
       "      <td>10.92</td>\n",
       "    </tr>\n",
       "    <tr>\n",
       "      <th>3</th>\n",
       "      <td>4</td>\n",
       "      <td>2023-11-07</td>\n",
       "      <td>5</td>\n",
       "      <td>33.29</td>\n",
       "    </tr>\n",
       "    <tr>\n",
       "      <th>4</th>\n",
       "      <td>5</td>\n",
       "      <td>2023-09-02</td>\n",
       "      <td>5</td>\n",
       "      <td>78.82</td>\n",
       "    </tr>\n",
       "    <tr>\n",
       "      <th>...</th>\n",
       "      <td>...</td>\n",
       "      <td>...</td>\n",
       "      <td>...</td>\n",
       "      <td>...</td>\n",
       "    </tr>\n",
       "    <tr>\n",
       "      <th>22620</th>\n",
       "      <td>22621</td>\n",
       "      <td>2023-10-12</td>\n",
       "      <td>2</td>\n",
       "      <td>9.69</td>\n",
       "    </tr>\n",
       "    <tr>\n",
       "      <th>22621</th>\n",
       "      <td>22622</td>\n",
       "      <td>2023-12-16</td>\n",
       "      <td>1</td>\n",
       "      <td>6.07</td>\n",
       "    </tr>\n",
       "    <tr>\n",
       "      <th>22622</th>\n",
       "      <td>22623</td>\n",
       "      <td>2023-12-21</td>\n",
       "      <td>2</td>\n",
       "      <td>128.01</td>\n",
       "    </tr>\n",
       "    <tr>\n",
       "      <th>22623</th>\n",
       "      <td>22624</td>\n",
       "      <td>2023-02-12</td>\n",
       "      <td>2</td>\n",
       "      <td>19.60</td>\n",
       "    </tr>\n",
       "    <tr>\n",
       "      <th>22624</th>\n",
       "      <td>22625</td>\n",
       "      <td>2023-12-31</td>\n",
       "      <td>9</td>\n",
       "      <td>83.62</td>\n",
       "    </tr>\n",
       "  </tbody>\n",
       "</table>\n",
       "<p>22625 rows × 4 columns</p>\n",
       "</div>"
      ],
      "text/plain": [
       "       Customer_ID Last_purchase_date  No_of_orders  Total_spend\n",
       "0                1         2023-01-22             2        16.29\n",
       "1                2         2023-06-19             2        22.77\n",
       "2                3         2023-02-01             3        10.92\n",
       "3                4         2023-11-07             5        33.29\n",
       "4                5         2023-09-02             5        78.82\n",
       "...            ...                ...           ...          ...\n",
       "22620        22621         2023-10-12             2         9.69\n",
       "22621        22622         2023-12-16             1         6.07\n",
       "22622        22623         2023-12-21             2       128.01\n",
       "22623        22624         2023-02-12             2        19.60\n",
       "22624        22625         2023-12-31             9        83.62\n",
       "\n",
       "[22625 rows x 4 columns]"
      ]
     },
     "execution_count": 10,
     "metadata": {},
     "output_type": "execute_result"
    }
   ],
   "source": [
    "rfm_df = sd_df.groupby('Customer_ID').agg({'Order Date' : 'max', 'Customer_ID' : 'count', 'Sales_Amount' : 'sum'})\n",
    "rfm_df = rfm_df.rename(columns = {'Sales_Amount' : 'Total_spend', 'Customer_ID' : 'No_of_orders', 'Order Date' : 'Last_purchase_date'})\n",
    "rfm_df = rfm_df.reset_index()\n",
    "rfm_df"
   ]
  },
  {
   "cell_type": "code",
   "execution_count": 11,
   "id": "f74a0c18",
   "metadata": {},
   "outputs": [],
   "source": [
    "# calc no of days from 27th Jan 2024 (when making an project)\n",
    "\n",
    "def calc_no_of_days(x):\n",
    "    return((pd.to_datetime('2024-01-27') - x).days)\n",
    "\n",
    "rfm_df['No_of_days'] = rfm_df['Last_purchase_date'].apply(calc_no_of_days) "
   ]
  },
  {
   "cell_type": "code",
   "execution_count": 12,
   "id": "cbe6701b",
   "metadata": {},
   "outputs": [],
   "source": [
    "# Not require Last purchase date. \n",
    "rfm_df.drop(columns = 'Last_purchase_date', inplace  = True)\n",
    "\n",
    "# Metric renamed\n",
    "rfm_df = rfm_df.rename(columns = {'Total_spend' : 'Monetary', 'No_of_orders' : 'Frequency', 'No_of_days' : 'Recency'})"
   ]
  },
  {
   "cell_type": "code",
   "execution_count": 13,
   "id": "d47693c0",
   "metadata": {},
   "outputs": [
    {
     "data": {
      "text/html": [
       "<div>\n",
       "<style scoped>\n",
       "    .dataframe tbody tr th:only-of-type {\n",
       "        vertical-align: middle;\n",
       "    }\n",
       "\n",
       "    .dataframe tbody tr th {\n",
       "        vertical-align: top;\n",
       "    }\n",
       "\n",
       "    .dataframe thead th {\n",
       "        text-align: right;\n",
       "    }\n",
       "</style>\n",
       "<table border=\"1\" class=\"dataframe\">\n",
       "  <thead>\n",
       "    <tr style=\"text-align: right;\">\n",
       "      <th></th>\n",
       "      <th>Recency</th>\n",
       "      <th>Monetary</th>\n",
       "      <th>Frequency</th>\n",
       "    </tr>\n",
       "  </thead>\n",
       "  <tbody>\n",
       "    <tr>\n",
       "      <th>0.25</th>\n",
       "      <td>71.0</td>\n",
       "      <td>10.17</td>\n",
       "      <td>1.0</td>\n",
       "    </tr>\n",
       "    <tr>\n",
       "      <th>0.50</th>\n",
       "      <td>147.0</td>\n",
       "      <td>23.85</td>\n",
       "      <td>3.0</td>\n",
       "    </tr>\n",
       "    <tr>\n",
       "      <th>0.75</th>\n",
       "      <td>269.0</td>\n",
       "      <td>63.07</td>\n",
       "      <td>6.0</td>\n",
       "    </tr>\n",
       "  </tbody>\n",
       "</table>\n",
       "</div>"
      ],
      "text/plain": [
       "      Recency  Monetary  Frequency\n",
       "0.25     71.0     10.17        1.0\n",
       "0.50    147.0     23.85        3.0\n",
       "0.75    269.0     63.07        6.0"
      ]
     },
     "execution_count": 13,
     "metadata": {},
     "output_type": "execute_result"
    }
   ],
   "source": [
    "# Quantile is the method to calculate xth Percentile. \n",
    "# It determines how many values in a distribution are below (<=) a certain limit and above (>=) a certain limit.\n",
    "\n",
    "# Here, we calculated quariles for Recency, Frequency and Monetary.\n",
    "# i. 25th Percentile (Q1), \n",
    "# ii. 50th Percentile (Q2 or median) and \n",
    "# iii. 75th Percentile (Q3) \n",
    "\n",
    "quartiles = rfm_df[['Recency','Monetary', 'Frequency']].quantile([0.25, 0.5, 0.75], interpolation = 'midpoint', axis = 0)\n",
    "quartiles"
   ]
  },
  {
   "cell_type": "markdown",
   "id": "1aff900b",
   "metadata": {},
   "source": [
    " Here, we assign score for Recency, Frequency and Monetary.\n",
    "- score 4 : High recency (days count low), High Frequency (number high), High Monetary (Amt high)\n",
    "- score 1 : low recency (days count high), Low Frequency (number low), Low Monetary (Amt low)"
   ]
  },
  {
   "cell_type": "code",
   "execution_count": 14,
   "id": "be0d1523",
   "metadata": {},
   "outputs": [],
   "source": [
    "# Here, if each value of Recency Column fall under 25th Percentile, return score of 4 (Highest).\n",
    "# if not, then check for fall under 50th Percentile, return score of 3 and so on.\n",
    "\n",
    "def r_score(x, q):\n",
    "    \n",
    "#     x is each value from recency column.\n",
    "#     q is quariles dataframe and fetch 25th, 50th and 75th percentile recency value.\n",
    "#     Assigning score based on condition\n",
    "    if x <= q['Recency'][0.25]:\n",
    "        return 4\n",
    "    elif x <= q['Recency'][0.50]:\n",
    "        return 3\n",
    "    elif x <= q['Recency'][0.75]:\n",
    "        return 2\n",
    "    else:\n",
    "        return 1\n",
    "    \n",
    "\n",
    "rfm_df['R_score'] = rfm_df['Recency'].apply(r_score, args = (quartiles,))"
   ]
  },
  {
   "cell_type": "code",
   "execution_count": 15,
   "id": "69ec11e1",
   "metadata": {},
   "outputs": [],
   "source": [
    "# Here, if each value of Frequency Column fall under 25th Percentile, return score of 1 (Lower).\n",
    "# if not, then check for fall under 50th Percentile, return score of 2 and so on.\n",
    "\n",
    "def f_score(x, q):\n",
    "    \n",
    "#     x is each value from Frequency column.\n",
    "#     q is quariles dataframe and fetch 25th, 50th and 75th percentile Frequency value.\n",
    "#     Assigning score based on condition\n",
    "    if x <= q['Frequency'][0.25]:\n",
    "        return 1\n",
    "    elif x <= q['Frequency'][0.50]:\n",
    "        return 2\n",
    "    elif x <= q['Frequency'][0.75]:\n",
    "        return 3\n",
    "    else:\n",
    "        return 4\n",
    "    \n",
    "\n",
    "rfm_df['F_score'] = rfm_df['Frequency'].apply(f_score, args = (quartiles,))"
   ]
  },
  {
   "cell_type": "code",
   "execution_count": 16,
   "id": "41c612b5",
   "metadata": {},
   "outputs": [],
   "source": [
    "# Here, if each value of Monetary Column fall under 25th Percentile, return score of 1 (Lower).\n",
    "# if not, then check for fall under 50th Percentile, return score of 2 and so on.\n",
    "\n",
    "def m_score(x, q):\n",
    "    \n",
    "#     x is each value from Monetary column.\n",
    "#     q is quariles dataframe and fetch 25th, 50th and 75th percentile Monetary value.\n",
    "#     Assigning score based on condition\n",
    "    if x <= q['Monetary'][0.25]:\n",
    "        return 1\n",
    "    elif x <= q['Monetary'][0.50]:\n",
    "        return 2\n",
    "    elif x <= q['Monetary'][0.75]:\n",
    "        return 3\n",
    "    else:\n",
    "        return 4\n",
    "    \n",
    "\n",
    "rfm_df['M_score'] = rfm_df['Monetary'].apply(m_score, args = (quartiles,))"
   ]
  },
  {
   "cell_type": "code",
   "execution_count": 17,
   "id": "ca5fd83f",
   "metadata": {},
   "outputs": [],
   "source": [
    "# In above, score calculated individually. Let's Calc combined, RFM Score\n",
    "rfm_df['RFM_score'] = rfm_df['R_score'] + rfm_df['F_score'] + rfm_df['M_score']"
   ]
  },
  {
   "cell_type": "code",
   "execution_count": 18,
   "id": "28ef91a1",
   "metadata": {
    "scrolled": true
   },
   "outputs": [
    {
     "data": {
      "text/plain": [
       "60"
      ]
     },
     "execution_count": 18,
     "metadata": {},
     "output_type": "execute_result"
    }
   ],
   "source": [
    "len(rfm_df[['R_score', 'F_score', 'M_score']].drop_duplicates())"
   ]
  },
  {
   "cell_type": "markdown",
   "id": "08d56781",
   "metadata": {},
   "source": [
    "- In each dimension(RFM), we get 4 values. When combine 3 column, possible combination are : 4x4x4 = 64.\n",
    "- Total 64 different segment created.\n",
    "***Observation : Actual combination found from this data set : 60**"
   ]
  },
  {
   "cell_type": "code",
   "execution_count": 19,
   "id": "ecd9003f",
   "metadata": {},
   "outputs": [],
   "source": [
    "# Label them each segment :\n",
    "def seg_label(x):\n",
    "    if x == 4:\n",
    "        return 'High'\n",
    "    elif x == 3:\n",
    "        return 'Medium'\n",
    "    elif x == 2:\n",
    "        return 'Low'\n",
    "    else:\n",
    "        return 'Very low'\n",
    "\n",
    "rfm_df['RFM_remarks'] = rfm_df['R_score'].apply(seg_label) + ' recency, ' + rfm_df['F_score'].apply(seg_label) + ' frequency, ' + rfm_df['M_score'].apply(seg_label) + ' monetary'"
   ]
  },
  {
   "cell_type": "code",
   "execution_count": 20,
   "id": "b325939d",
   "metadata": {
    "scrolled": false
   },
   "outputs": [
    {
     "data": {
      "text/html": [
       "<div>\n",
       "<style scoped>\n",
       "    .dataframe tbody tr th:only-of-type {\n",
       "        vertical-align: middle;\n",
       "    }\n",
       "\n",
       "    .dataframe tbody tr th {\n",
       "        vertical-align: top;\n",
       "    }\n",
       "\n",
       "    .dataframe thead th {\n",
       "        text-align: right;\n",
       "    }\n",
       "</style>\n",
       "<table border=\"1\" class=\"dataframe\">\n",
       "  <thead>\n",
       "    <tr style=\"text-align: right;\">\n",
       "      <th></th>\n",
       "      <th>Customer_ID</th>\n",
       "      <th>Frequency</th>\n",
       "      <th>Monetary</th>\n",
       "      <th>Recency</th>\n",
       "      <th>R_score</th>\n",
       "      <th>F_score</th>\n",
       "      <th>M_score</th>\n",
       "      <th>RFM_score</th>\n",
       "      <th>RFM_remarks</th>\n",
       "    </tr>\n",
       "  </thead>\n",
       "  <tbody>\n",
       "    <tr>\n",
       "      <th>0</th>\n",
       "      <td>1</td>\n",
       "      <td>2</td>\n",
       "      <td>16.29</td>\n",
       "      <td>370</td>\n",
       "      <td>1</td>\n",
       "      <td>2</td>\n",
       "      <td>2</td>\n",
       "      <td>5</td>\n",
       "      <td>Very low recency, Low frequency, Low monetary</td>\n",
       "    </tr>\n",
       "    <tr>\n",
       "      <th>1</th>\n",
       "      <td>2</td>\n",
       "      <td>2</td>\n",
       "      <td>22.77</td>\n",
       "      <td>222</td>\n",
       "      <td>2</td>\n",
       "      <td>2</td>\n",
       "      <td>2</td>\n",
       "      <td>6</td>\n",
       "      <td>Low recency, Low frequency, Low monetary</td>\n",
       "    </tr>\n",
       "    <tr>\n",
       "      <th>2</th>\n",
       "      <td>3</td>\n",
       "      <td>3</td>\n",
       "      <td>10.92</td>\n",
       "      <td>360</td>\n",
       "      <td>1</td>\n",
       "      <td>2</td>\n",
       "      <td>2</td>\n",
       "      <td>5</td>\n",
       "      <td>Very low recency, Low frequency, Low monetary</td>\n",
       "    </tr>\n",
       "    <tr>\n",
       "      <th>3</th>\n",
       "      <td>4</td>\n",
       "      <td>5</td>\n",
       "      <td>33.29</td>\n",
       "      <td>81</td>\n",
       "      <td>3</td>\n",
       "      <td>3</td>\n",
       "      <td>3</td>\n",
       "      <td>9</td>\n",
       "      <td>Medium recency, Medium frequency, Medium monetary</td>\n",
       "    </tr>\n",
       "    <tr>\n",
       "      <th>4</th>\n",
       "      <td>5</td>\n",
       "      <td>5</td>\n",
       "      <td>78.82</td>\n",
       "      <td>147</td>\n",
       "      <td>3</td>\n",
       "      <td>3</td>\n",
       "      <td>4</td>\n",
       "      <td>10</td>\n",
       "      <td>Medium recency, Medium frequency, High monetary</td>\n",
       "    </tr>\n",
       "  </tbody>\n",
       "</table>\n",
       "</div>"
      ],
      "text/plain": [
       "   Customer_ID  Frequency  Monetary  Recency  R_score  F_score  M_score  \\\n",
       "0            1          2     16.29      370        1        2        2   \n",
       "1            2          2     22.77      222        2        2        2   \n",
       "2            3          3     10.92      360        1        2        2   \n",
       "3            4          5     33.29       81        3        3        3   \n",
       "4            5          5     78.82      147        3        3        4   \n",
       "\n",
       "   RFM_score                                        RFM_remarks  \n",
       "0          5      Very low recency, Low frequency, Low monetary  \n",
       "1          6           Low recency, Low frequency, Low monetary  \n",
       "2          5      Very low recency, Low frequency, Low monetary  \n",
       "3          9  Medium recency, Medium frequency, Medium monetary  \n",
       "4         10    Medium recency, Medium frequency, High monetary  "
      ]
     },
     "metadata": {},
     "output_type": "display_data"
    }
   ],
   "source": [
    "with pd.option_context('display.max_colwidth', 400):\n",
    "    display(rfm_df.head())"
   ]
  },
  {
   "cell_type": "markdown",
   "id": "7fcba80c",
   "metadata": {},
   "source": [
    "***Marketing and Business Team, want to focus on these 2 segments and implement targeted strategies tailored to each group*** \n",
    "- 1st Target Audience : High-Value, loyal, and recent customer.\n",
    "- 2nd Target Audience : High-Value, Loyal Customer who hasn't purchased recently"
   ]
  },
  {
   "cell_type": "code",
   "execution_count": 21,
   "id": "a472a54b",
   "metadata": {},
   "outputs": [],
   "source": [
    "first_seg_df = rfm_df.loc[(rfm_df['R_score'] == 4) & (rfm_df['F_score'] == 4) & (rfm_df['M_score'] == 4)]\n",
    "sec_seg_df = rfm_df.loc[(rfm_df['R_score'] != 4) & (rfm_df['F_score'] == 4) & (rfm_df['M_score'] == 4)]"
   ]
  },
  {
   "cell_type": "code",
   "execution_count": 22,
   "id": "f9353e5f",
   "metadata": {},
   "outputs": [
    {
     "data": {
      "text/html": [
       "<div>\n",
       "<style scoped>\n",
       "    .dataframe tbody tr th:only-of-type {\n",
       "        vertical-align: middle;\n",
       "    }\n",
       "\n",
       "    .dataframe tbody tr th {\n",
       "        vertical-align: top;\n",
       "    }\n",
       "\n",
       "    .dataframe thead th {\n",
       "        text-align: right;\n",
       "    }\n",
       "</style>\n",
       "<table border=\"1\" class=\"dataframe\">\n",
       "  <thead>\n",
       "    <tr style=\"text-align: right;\">\n",
       "      <th></th>\n",
       "      <th>Customer_ID</th>\n",
       "      <th>Frequency</th>\n",
       "      <th>Monetary</th>\n",
       "      <th>Recency</th>\n",
       "      <th>R_score</th>\n",
       "      <th>F_score</th>\n",
       "      <th>M_score</th>\n",
       "      <th>RFM_score</th>\n",
       "      <th>RFM_remarks</th>\n",
       "    </tr>\n",
       "  </thead>\n",
       "  <tbody>\n",
       "    <tr>\n",
       "      <th>43</th>\n",
       "      <td>44</td>\n",
       "      <td>20</td>\n",
       "      <td>152.76</td>\n",
       "      <td>56</td>\n",
       "      <td>4</td>\n",
       "      <td>4</td>\n",
       "      <td>4</td>\n",
       "      <td>12</td>\n",
       "      <td>High recency, High frequency, High monetary</td>\n",
       "    </tr>\n",
       "    <tr>\n",
       "      <th>64</th>\n",
       "      <td>65</td>\n",
       "      <td>10</td>\n",
       "      <td>72.16</td>\n",
       "      <td>57</td>\n",
       "      <td>4</td>\n",
       "      <td>4</td>\n",
       "      <td>4</td>\n",
       "      <td>12</td>\n",
       "      <td>High recency, High frequency, High monetary</td>\n",
       "    </tr>\n",
       "    <tr>\n",
       "      <th>92</th>\n",
       "      <td>93</td>\n",
       "      <td>9</td>\n",
       "      <td>140.72</td>\n",
       "      <td>56</td>\n",
       "      <td>4</td>\n",
       "      <td>4</td>\n",
       "      <td>4</td>\n",
       "      <td>12</td>\n",
       "      <td>High recency, High frequency, High monetary</td>\n",
       "    </tr>\n",
       "    <tr>\n",
       "      <th>182</th>\n",
       "      <td>183</td>\n",
       "      <td>10</td>\n",
       "      <td>64.79</td>\n",
       "      <td>54</td>\n",
       "      <td>4</td>\n",
       "      <td>4</td>\n",
       "      <td>4</td>\n",
       "      <td>12</td>\n",
       "      <td>High recency, High frequency, High monetary</td>\n",
       "    </tr>\n",
       "    <tr>\n",
       "      <th>197</th>\n",
       "      <td>198</td>\n",
       "      <td>14</td>\n",
       "      <td>196.39</td>\n",
       "      <td>57</td>\n",
       "      <td>4</td>\n",
       "      <td>4</td>\n",
       "      <td>4</td>\n",
       "      <td>12</td>\n",
       "      <td>High recency, High frequency, High monetary</td>\n",
       "    </tr>\n",
       "  </tbody>\n",
       "</table>\n",
       "</div>"
      ],
      "text/plain": [
       "     Customer_ID  Frequency  Monetary  Recency  R_score  F_score  M_score  \\\n",
       "43            44         20    152.76       56        4        4        4   \n",
       "64            65         10     72.16       57        4        4        4   \n",
       "92            93          9    140.72       56        4        4        4   \n",
       "182          183         10     64.79       54        4        4        4   \n",
       "197          198         14    196.39       57        4        4        4   \n",
       "\n",
       "     RFM_score                                  RFM_remarks  \n",
       "43          12  High recency, High frequency, High monetary  \n",
       "64          12  High recency, High frequency, High monetary  \n",
       "92          12  High recency, High frequency, High monetary  \n",
       "182         12  High recency, High frequency, High monetary  \n",
       "197         12  High recency, High frequency, High monetary  "
      ]
     },
     "execution_count": 22,
     "metadata": {},
     "output_type": "execute_result"
    }
   ],
   "source": [
    "# 1st Audince: High-Value, Loyal, and Recent Customers.\n",
    "first_seg_df.head()"
   ]
  },
  {
   "cell_type": "code",
   "execution_count": 23,
   "id": "52468b4d",
   "metadata": {
    "scrolled": false
   },
   "outputs": [
    {
     "data": {
      "text/html": [
       "<div>\n",
       "<style scoped>\n",
       "    .dataframe tbody tr th:only-of-type {\n",
       "        vertical-align: middle;\n",
       "    }\n",
       "\n",
       "    .dataframe tbody tr th {\n",
       "        vertical-align: top;\n",
       "    }\n",
       "\n",
       "    .dataframe thead th {\n",
       "        text-align: right;\n",
       "    }\n",
       "</style>\n",
       "<table border=\"1\" class=\"dataframe\">\n",
       "  <thead>\n",
       "    <tr style=\"text-align: right;\">\n",
       "      <th></th>\n",
       "      <th>Customer_ID</th>\n",
       "      <th>Frequency</th>\n",
       "      <th>Monetary</th>\n",
       "      <th>Recency</th>\n",
       "      <th>R_score</th>\n",
       "      <th>F_score</th>\n",
       "      <th>M_score</th>\n",
       "      <th>RFM_score</th>\n",
       "      <th>RFM_remarks</th>\n",
       "    </tr>\n",
       "  </thead>\n",
       "  <tbody>\n",
       "    <tr>\n",
       "      <th>13</th>\n",
       "      <td>14</td>\n",
       "      <td>8</td>\n",
       "      <td>308.43</td>\n",
       "      <td>315</td>\n",
       "      <td>1</td>\n",
       "      <td>4</td>\n",
       "      <td>4</td>\n",
       "      <td>9</td>\n",
       "      <td>Very low recency, High frequency, High monetary</td>\n",
       "    </tr>\n",
       "    <tr>\n",
       "      <th>25</th>\n",
       "      <td>26</td>\n",
       "      <td>12</td>\n",
       "      <td>100.87</td>\n",
       "      <td>208</td>\n",
       "      <td>2</td>\n",
       "      <td>4</td>\n",
       "      <td>4</td>\n",
       "      <td>10</td>\n",
       "      <td>Low recency, High frequency, High monetary</td>\n",
       "    </tr>\n",
       "    <tr>\n",
       "      <th>29</th>\n",
       "      <td>30</td>\n",
       "      <td>8</td>\n",
       "      <td>86.26</td>\n",
       "      <td>285</td>\n",
       "      <td>1</td>\n",
       "      <td>4</td>\n",
       "      <td>4</td>\n",
       "      <td>9</td>\n",
       "      <td>Very low recency, High frequency, High monetary</td>\n",
       "    </tr>\n",
       "    <tr>\n",
       "      <th>39</th>\n",
       "      <td>40</td>\n",
       "      <td>8</td>\n",
       "      <td>141.87</td>\n",
       "      <td>300</td>\n",
       "      <td>1</td>\n",
       "      <td>4</td>\n",
       "      <td>4</td>\n",
       "      <td>9</td>\n",
       "      <td>Very low recency, High frequency, High monetary</td>\n",
       "    </tr>\n",
       "    <tr>\n",
       "      <th>45</th>\n",
       "      <td>46</td>\n",
       "      <td>7</td>\n",
       "      <td>100.72</td>\n",
       "      <td>317</td>\n",
       "      <td>1</td>\n",
       "      <td>4</td>\n",
       "      <td>4</td>\n",
       "      <td>9</td>\n",
       "      <td>Very low recency, High frequency, High monetary</td>\n",
       "    </tr>\n",
       "  </tbody>\n",
       "</table>\n",
       "</div>"
      ],
      "text/plain": [
       "    Customer_ID  Frequency  Monetary  Recency  R_score  F_score  M_score  \\\n",
       "13           14          8    308.43      315        1        4        4   \n",
       "25           26         12    100.87      208        2        4        4   \n",
       "29           30          8     86.26      285        1        4        4   \n",
       "39           40          8    141.87      300        1        4        4   \n",
       "45           46          7    100.72      317        1        4        4   \n",
       "\n",
       "    RFM_score                                      RFM_remarks  \n",
       "13          9  Very low recency, High frequency, High monetary  \n",
       "25         10       Low recency, High frequency, High monetary  \n",
       "29          9  Very low recency, High frequency, High monetary  \n",
       "39          9  Very low recency, High frequency, High monetary  \n",
       "45          9  Very low recency, High frequency, High monetary  "
      ]
     },
     "execution_count": 23,
     "metadata": {},
     "output_type": "execute_result"
    }
   ],
   "source": [
    "# 2nd Audince : High-Value, Loyal Customer who hasn't purchased recently.\n",
    "sec_seg_df.head()"
   ]
  },
  {
   "cell_type": "code",
   "execution_count": 24,
   "id": "2f30f8b0",
   "metadata": {},
   "outputs": [
    {
     "name": "stdout",
     "output_type": "stream",
     "text": [
      "1st target audience and its per : 2342 and 10.4 %\n",
      "2nd target audience and its per : 1975 and 8.7 %\n"
     ]
    }
   ],
   "source": [
    "print('1st target audience and its per :', len(first_seg_df), 'and', round((len(first_seg_df)/len(rfm_df))*100,1), '%')\n",
    "print('2nd target audience and its per :', len(sec_seg_df), 'and', round((len(sec_seg_df)/len(rfm_df))*100,1), '%')"
   ]
  },
  {
   "cell_type": "markdown",
   "id": "8cbac69f",
   "metadata": {},
   "source": [
    "#### Observation :\n",
    "- Out of 22,625 customers, we reduce specific audience of 2342 customers (10.4%) and 1975 customers (~9%) for 1st target and 2nd Target audience respectively.\n",
    "- This technique help in saving company money by targeting specific audienace and generate better return on investment."
   ]
  },
  {
   "cell_type": "code",
   "execution_count": 25,
   "id": "bafb15fc",
   "metadata": {},
   "outputs": [],
   "source": [
    "rfm_df['RFM_Segment'] = rfm_df['R_score'].astype(str) + rfm_df['F_score'].astype(str) + rfm_df['M_score'].astype(str)"
   ]
  },
  {
   "cell_type": "code",
   "execution_count": 26,
   "id": "b5ed9933",
   "metadata": {
    "scrolled": true
   },
   "outputs": [
    {
     "data": {
      "image/png": "[encoded data removed]",
      "text/plain": [
       "<Figure size 576x576 with 1 Axes>"
      ]
     },
     "metadata": {},
     "output_type": "display_data"
    }
   ],
   "source": [
    "# Pie chart for RFM_Segment distribution who have high frequency and high monetary.\n",
    "\n",
    "import matplotlib.pyplot as plt\n",
    "\n",
    "s = rfm_df.loc[(rfm_df['F_score'] == 4) & (rfm_df['M_score'] == 4)]\n",
    "\n",
    "plt.figure(figsize=(8, 8))\n",
    "s['RFM_remarks'].value_counts().plot(kind='pie', autopct='%1.1f%%', colors=plt.cm.Paired.colors)\n",
    "plt.title('Composition of RFM Segments: High-Value, Loyal Customers')\n",
    "plt.ylabel('')\n",
    "plt.show()"
   ]
  },
  {
   "cell_type": "code",
   "execution_count": 27,
   "id": "1973a06c",
   "metadata": {},
   "outputs": [
    {
     "data": {
      "image/png": "[encoded data removed]",
      "text/plain": [
       "<Figure size 864x432 with 1 Axes>"
      ]
     },
     "metadata": {
      "needs_background": "light"
     },
     "output_type": "display_data"
    }
   ],
   "source": [
    "import seaborn as sns\n",
    "\n",
    "# Column chart for average Frequency by RFM Segment\n",
    "plt.figure(figsize=(12, 6))\n",
    "sns.barplot(x='RFM_Segment', y='Frequency', data=s, ci=None)\n",
    "plt.title('Average Frequency by RFM Segment: : High-Value, Loyal Customers')\n",
    "plt.xlabel('RFM Segment : High-Value, Loyal Customers')\n",
    "plt.ylabel('Average Frequency:')\n",
    "# plt.xticks(rotation=30)\n",
    "plt.show()"
   ]
  },
  {
   "cell_type": "code",
   "execution_count": 28,
   "id": "887a370f",
   "metadata": {},
   "outputs": [],
   "source": [
    "# Sharing excel files separetely for each target audience to marketing and business team.\n",
    "\n",
    "first_seg_df.to_excel('Premium_Customer.xlsx', index = False)\n",
    "sec_seg_df.to_excel('Former_Customer.xlsx', index = False)"
   ]
  },
  {
   "cell_type": "markdown",
   "id": "d17cc8cc",
   "metadata": {},
   "source": [
    "***Upon identifying the target audience, we can propsose recommendations to the marketing and business team for long-term business success:***\n",
    "\n",
    "#### 1.  High-Value, Loyal, and Recent Customers.\n",
    "    - by offering exclusive discounts and early access to sales.\n",
    "    - give rewards points for each transaction based on small or big purchase tickets.\n",
    "    - Express gratitude for their loyalty and communicate upcoming offers or new product launches through email or app notification.\n",
    "\n",
    "#### 2. High-Value, Loyal Customer who hasn't purchased recently :\n",
    "    - Use platforms like social media and display ads to showcase new products, promotions, or exclusive offers.\n",
    "    - Offers such as a discount on the next purchase or a freebie with their next order."
   ]
  },
  {
   "cell_type": "code",
   "execution_count": null,
   "id": "f1ce581f",
   "metadata": {},
   "outputs": [],
   "source": []
  }
 ],
 "metadata": {
  "kernelspec": {
   "display_name": "Python 3",
   "language": "python",
   "name": "python3"
  },
  "language_info": {
   "codemirror_mode": {
    "name": "ipython",
    "version": 3
   },
   "file_extension": ".py",
   "mimetype": "text/x-python",
   "name": "python",
   "nbconvert_exporter": "python",
   "pygments_lexer": "ipython3",
   "version": "3.9.4"
  }
 },
 "nbformat": 4,
 "nbformat_minor": 5
}
